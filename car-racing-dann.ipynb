{
  "nbformat": 4,
  "nbformat_minor": 0,
  "metadata": {
    "colab": {
      "provenance": [],
      "authorship_tag": "ABX9TyPC5MIyAtCBtRnS3cUFf/5R",
      "include_colab_link": true
    },
    "kernelspec": {
      "name": "python3",
      "display_name": "Python 3"
    },
    "language_info": {
      "name": "python"
    },
    "gpuClass": "standard",
    "accelerator": "GPU"
  },
  "cells": [
    {
      "cell_type": "markdown",
      "metadata": {
        "id": "view-in-github",
        "colab_type": "text"
      },
      "source": [
        "<a href=\"https://colab.research.google.com/github/bochendong/car-racing-revistied/blob/main/car-racing-dann.ipynb\" target=\"_parent\"><img src=\"https://colab.research.google.com/assets/colab-badge.svg\" alt=\"Open In Colab\"/></a>"
      ]
    },
    {
      "cell_type": "code",
      "execution_count": 14,
      "metadata": {
        "colab": {
          "base_uri": "https://localhost:8080/",
          "height": 72
        },
        "id": "drtZmx8475Nx",
        "outputId": "0404ded2-bee0-43b2-be1a-ffaf87f10b00"
      },
      "outputs": [
        {
          "output_type": "execute_result",
          "data": {
            "text/plain": [
              "'%%capture\\n!pip install swig\\n!sudo apt update && sudo apt install python-opengl\\n!sudo apt update && sudo apt install xvfb\\n!pip install gym-notebook-wrapper stable-baselines[mpi] pyglet\\n!pip install wandb\\n# !pip install gym==0.21.0\\n!pip install pyvirtualdisplay -qq\\n!pip install folium==0.2.1\\n!apt-get install -y xvfb python-opengl ffmpeg -qq\\n!pip install gym[box2d]\\n!pip install box2d-kengz'"
            ],
            "application/vnd.google.colaboratory.intrinsic+json": {
              "type": "string"
            }
          },
          "metadata": {},
          "execution_count": 14
        }
      ],
      "source": [
        "# run this block for colab enviorment settings\n",
        "\n",
        "\n",
        "'''%%capture\n",
        "!pip install swig\n",
        "!sudo apt update && sudo apt install python-opengl\n",
        "!sudo apt update && sudo apt install xvfb\n",
        "!pip install gym-notebook-wrapper stable-baselines[mpi] pyglet\n",
        "!pip install wandb\n",
        "# !pip install gym==0.21.0\n",
        "!pip install pyvirtualdisplay -qq\n",
        "!pip install folium==0.2.1\n",
        "!apt-get install -y xvfb python-opengl ffmpeg -qq\n",
        "!pip install gym[box2d]\n",
        "!pip install box2d-kengz'''"
      ]
    },
    {
      "cell_type": "code",
      "source": [
        "import numpy as np\n",
        "import torch\n",
        "import torch.nn as nn\n",
        "import torch.nn.functional as F\n",
        "import torchvision.transforms as T\n",
        "import torch.optim as optim\n",
        "import random\n",
        "import os\n",
        "import glob\n",
        "from torch.distributions import Beta\n",
        "from torch.utils.data.sampler import BatchSampler, SubsetRandomSampler\n",
        "\n",
        "from torch.autograd import Function"
      ],
      "metadata": {
        "id": "RGRpkzbc93Mh"
      },
      "execution_count": 15,
      "outputs": []
    },
    {
      "cell_type": "code",
      "source": [
        "import gym\n",
        "from IPython import display\n",
        "import matplotlib.pyplot as plt\n",
        "%matplotlib inline"
      ],
      "metadata": {
        "id": "gD1PKkB179K8"
      },
      "execution_count": 16,
      "outputs": []
    },
    {
      "cell_type": "code",
      "source": [
        "env = gym.make('CarRacing-v2')\n",
        "init_state = env.reset()"
      ],
      "metadata": {
        "id": "apVDp9Kk7-li"
      },
      "execution_count": 17,
      "outputs": []
    },
    {
      "cell_type": "code",
      "source": [
        "use_cuda = torch.cuda.is_available()\n",
        "device = torch.device(\"cuda\" if use_cuda else \"cpu\")\n",
        "\n",
        "if (os.path.exists(\"./output_r\")) == False:\n",
        "    os.mkdir(\"output_r\")\n",
        "    \n",
        "for epoch in range (3000):\n",
        "    files = glob.glob(\"./output_r/*.png\")\n",
        "    \n",
        "    for f in files:\n",
        "        os.remove(f)"
      ],
      "metadata": {
        "id": "LbFqYn8n-5in"
      },
      "execution_count": 18,
      "outputs": []
    },
    {
      "cell_type": "markdown",
      "source": [
        "# Environment Car-racing"
      ],
      "metadata": {
        "id": "UrqLsco8Drkd"
      }
    },
    {
      "cell_type": "code",
      "source": [
        "ORG_B0 = np.array([100, 202, 100])\n",
        "ORG_B1 = np.array([100, 228, 100])\n",
        "\n",
        "Unseen_1_B0 = np.array([139, 177, 155])\n",
        "Unseen_1_B1 = np.array([145, 202, 156])\n",
        "\n",
        "Unseen_2_B0 = np.array([99, 160, 177])\n",
        "Unseen_2_B1 = np.array([115, 159, 174])\n",
        "\n",
        "def change_background_color(img_rgb, new_background_color, original_background_color,  similarity_threshold=25):\n",
        "    # Calculate the absolute difference between the image and the original background color\n",
        "    color_difference = np.abs(img_rgb - original_background_color)\n",
        "\n",
        "    # Create a boolean mask to identify the background pixels\n",
        "    background_mask = np.all(color_difference <= similarity_threshold, axis=-1)\n",
        "\n",
        "    # Replace the original background color with the new background color\n",
        "    img_rgb[background_mask] = new_background_color\n",
        "\n",
        "    return img_rgb\n",
        "\n",
        "\n",
        "class Env():\n",
        "    def __init__(self, color, seed=0):\n",
        "        \"\"\"\n",
        "        Initialize the environment with the given color and seed.\n",
        "        \n",
        "        :param color: str, color for the environment, 'g' for green\n",
        "        :param seed: int, seed for the environment\n",
        "        \"\"\"\n",
        "\n",
        "        self.env = gym.make('CarRacing-v2')\n",
        "        self.env.reset(seed=seed)\n",
        "        \n",
        "        self.color = color\n",
        "        self.reward_threshold = 1000\n",
        "        self.reset()\n",
        "\n",
        "    def reset(self):\n",
        "        \"\"\"\n",
        "        Reset the environment and return the initial state.\n",
        "        \n",
        "        :return: np.array, initial state\n",
        "        \"\"\"\n",
        "        self.counter = 0\n",
        "        self.die = False\n",
        "        self.av_r = self.reward_memory()\n",
        "\n",
        "        img_rgb = self.env.reset()\n",
        "        if (self.color == 'c1'):\n",
        "            img_rgb = change_background_color(img_rgb, Unseen_1_B0, ORG_B0)\n",
        "            img_rgb = change_background_color(img_rgb, Unseen_1_B1, ORG_B1)\n",
        "        elif (self.color == 'c2'):\n",
        "            img_rgb = change_background_color(img_rgb, Unseen_2_B0, ORG_B0)\n",
        "            img_rgb = change_background_color(img_rgb, Unseen_2_B1, ORG_B1)\n",
        "\n",
        "        img_rgb = img_rgb / 128. - 1\n",
        "\n",
        "        self.stack = [img_rgb] * 4\n",
        "        return np.array(self.stack)\n",
        "\n",
        "\n",
        "    def step(self, action):\n",
        "        \"\"\"\n",
        "        Take a step in the environment using the given action, reconstrcut the \n",
        "        reward fucntion.\n",
        "        \n",
        "        :param action: np.array, action to take in the environment\n",
        "        :return: tuple, (state, total_reward, done, die)\n",
        "        \"\"\"\n",
        "        total_reward = 0\n",
        "        for i in range(8):\n",
        "            img_rgb, reward, die, _ = self.env.step(action)\n",
        "\n",
        "            if (self.color == 'c1'):\n",
        "                img_rgb = change_background_color(img_rgb, Unseen_1_B0, ORG_B0)\n",
        "                img_rgb = change_background_color(img_rgb, Unseen_1_B1, ORG_B1)\n",
        "            elif (self.color == 'c2'):\n",
        "                img_rgb = change_background_color(img_rgb, Unseen_2_B0, ORG_B0)\n",
        "                img_rgb = change_background_color(img_rgb, Unseen_2_B1, ORG_B1)\n",
        "\n",
        "            if die: reward += 100\n",
        "\n",
        "            if self.color == 'g' and np.mean(img_rgb[:, :, 1]) > 185.0:\n",
        "                reward -= 0.05\n",
        "\n",
        "            total_reward += reward\n",
        "\n",
        "            done = True if self.av_r(reward) <= -0.1 else False\n",
        "            if done or die:\n",
        "                break\n",
        "\n",
        "        img_rgb = img_rgb / 128. - 1\n",
        "\n",
        "\n",
        "        self.stack.pop(0)\n",
        "        self.stack.append(img_rgb)\n",
        "        assert len(self.stack) == 4\n",
        "        return np.array(self.stack), total_reward, done, die\n",
        "\n",
        "    def step_eval(self, action):\n",
        "        \"\"\"\n",
        "        Take a step in the environment using the given action (for evaluation).\n",
        "        \n",
        "        :param action: np.array, action to take in the environment\n",
        "        :return: tuple, (state, reward, done, _)\n",
        "        \"\"\"\n",
        "        img_rgb, reward, done, _ = self.env.step(action)\n",
        "\n",
        "        img_rgb = img_rgb / 128. - 1\n",
        "        self.stack.pop(0)\n",
        "        self.stack.append(img_rgb)\n",
        "        return np.array(self.stack), reward, done, _\n",
        "\n",
        "    def render(self, *arg):\n",
        "        \"\"\"\n",
        "        Render the environment.\n",
        "        \n",
        "        :param arg: tuple, arguments for the rendering function\n",
        "        \"\"\"\n",
        "        self.env.render(*arg)\n",
        "\n",
        "    @staticmethod\n",
        "    def reward_memory():\n",
        "        \"\"\"\n",
        "        Create a reward memory function to store the last `length` rewards.\n",
        "        \n",
        "        :return: function, reward memory function\n",
        "        \"\"\"\n",
        "        count = 0\n",
        "        length = 100\n",
        "        history = np.zeros(length)\n",
        "\n",
        "        def memory(reward):\n",
        "            nonlocal count\n",
        "            history[count] = reward\n",
        "            count = (count + 1) % length\n",
        "            return np.mean(history)\n",
        "\n",
        "        return memory"
      ],
      "metadata": {
        "id": "ddMmSYIc9sL2"
      },
      "execution_count": 19,
      "outputs": []
    },
    {
      "cell_type": "code",
      "source": [
        "source_env = Env(color = 'g', seed = 0)\n",
        "unseen_1_env = Env(color = 'c1', seed = 0)\n",
        "unseen_2_env = Env(color = 'c2', seed = 0)\n",
        "\n",
        "discrete_actions = {0 : np.array([0,0,0]),       # do nothing\n",
        "                                 1 : np.array([-1,0,0]),      # steer sharp left\n",
        "                                 2 : np.array([1,0,0]),       # steer sharp right\n",
        "                                 3 : np.array([-0.5,0,0]),    # steer left\n",
        "                                 4 : np.array([0.5,0,0]),     # steer right\n",
        "                                 5 : np.array([0,1,0]),       # accelerate 100%\n",
        "                                 6 : np.array([0,0.5,0]),     # accelerate 50%\n",
        "                                 7 : np.array([0,0.25,0]),    # accelerate 25%\n",
        "                                 8 : np.array([0,0,1]),       # brake 100%\n",
        "                                 9 : np.array([0,0,0.5]),     # brake 50%\n",
        "                                 10 : np.array([0,0,0.25])}   # brake 25%\n",
        "\n",
        "def get_obs(env):\n",
        "    n_actions = len(discrete_actions)\n",
        "    for i in range (0, 30):\n",
        "        action = torch.randint(low=0, high=11, size=(1,))\n",
        "        action_transfered = discrete_actions.get(int(action[0]))\n",
        "\n",
        "        obs, reward, done, _ = env.step([action_transfered[0], action_transfered[1], action_transfered[2]])\n",
        "\n",
        "    return (obs[0] + 1) / 2.0\n",
        "\n",
        "env_preview = []\n",
        "\n",
        "env_preview.append(get_obs(source_env))\n",
        "env_preview.append(get_obs(unseen_1_env))\n",
        "env_preview.append(get_obs(unseen_2_env))\n",
        "\n",
        "\n",
        "f, axs = plt.subplots(1, 3, figsize = (12, 4))\n",
        "axs = axs.flatten()\n",
        "\n",
        "for img, ax in zip(env_preview, axs):\n",
        "    ax.imshow(img)\n",
        "\n",
        "plt.show()"
      ],
      "metadata": {
        "colab": {
          "base_uri": "https://localhost:8080/",
          "height": 338
        },
        "id": "_rxmXAJtHNun",
        "outputId": "83f8bb04-4e5b-41bf-c0a5-c705cdfd58c0"
      },
      "execution_count": 20,
      "outputs": [
        {
          "output_type": "display_data",
          "data": {
            "text/plain": [
              "<Figure size 1200x400 with 3 Axes>"
            ],
            "image/png": "[encoded data removed]"
          },
          "metadata": {}
        }
      ]
    },
    {
      "cell_type": "markdown",
      "source": [
        "# DANN"
      ],
      "metadata": {
        "id": "N1I3wHgdDxlj"
      }
    },
    {
      "cell_type": "code",
      "source": [
        "class ReverseLayerF(Function):\n",
        "    @staticmethod\n",
        "    def forward(ctx, x, alpha):\n",
        "        ctx.alpha = alpha\n",
        "        return x.view_as(x)\n",
        "\n",
        "    @staticmethod\n",
        "    def backward(ctx, grad_output):\n",
        "        output = grad_output.neg() * ctx.alpha\n",
        "        return output, None  \n",
        "\n",
        "class DANN(nn.Module):\n",
        "    def __init__(self, num_out=2):\n",
        "        \"\"\"\n",
        "        Initialize the DANN module.\n",
        "        \n",
        "        :param num_out: int, number of output units\n",
        "        \"\"\"\n",
        "        super(DANN, self).__init__()\n",
        "\n",
        "        self.sketch = nn.Sequential(\n",
        "            nn.Conv3d(4, 4, kernel_size=(1, 1, 3), stride=1),\n",
        "            nn.ReLU(),\n",
        "        )\n",
        "\n",
        "        self.feature = nn.Sequential(\n",
        "            nn.Conv2d(4, 8, kernel_size=4, stride=2),\n",
        "            nn.ReLU(),\n",
        "            nn.Conv2d(8, 16, kernel_size=3, stride=2),\n",
        "            nn.ReLU(),\n",
        "            nn.Conv2d(16, 32, kernel_size=3, stride=2),\n",
        "            nn.ReLU(),\n",
        "            nn.Conv2d(32, 64, kernel_size=3, stride=2),\n",
        "            nn.ReLU(),\n",
        "        )\n",
        "\n",
        "        self.cnn_base = nn.Sequential(\n",
        "            nn.Conv2d(64, 128, kernel_size=3, stride=1),\n",
        "            nn.ReLU(),\n",
        "            nn.Conv2d(128, 256, kernel_size=3, stride=1),\n",
        "            nn.ReLU(),\n",
        "        )\n",
        "\n",
        "        self.domain_classifier = nn.Sequential(\n",
        "            nn.Linear(64 * 5 * 5, 512),\n",
        "            nn.BatchNorm1d(512),\n",
        "            nn.ReLU(True),\n",
        "            nn.Linear(512, 256),\n",
        "            nn.BatchNorm1d(256),\n",
        "            nn.ReLU(True),\n",
        "            nn.Linear(256, 2),\n",
        "        )\n",
        "\n",
        "        self.value_head = nn.Sequential(\n",
        "            nn.Linear(256, 100),\n",
        "            nn.ReLU(),\n",
        "            nn.Linear(100, 1)\n",
        "        )\n",
        "\n",
        "        self.fc = nn.Sequential(\n",
        "            nn.Linear(256, 100),\n",
        "            nn.ReLU()\n",
        "        )\n",
        "\n",
        "        self.alpha_head = nn.Sequential(\n",
        "            nn.Linear(100, 3),\n",
        "            nn.Softplus()\n",
        "        )\n",
        "\n",
        "        self.beta_head = nn.Sequential(\n",
        "            nn.Linear(100, 3),\n",
        "            nn.Softplus()\n",
        "        )\n",
        "\n",
        "        self.apply(self._weights_init)\n",
        "\n",
        "    def forward(self, input, a=0.1):\n",
        "        \"\"\"\n",
        "        Forward pass through the DANN module.\n",
        "        \n",
        "        :param input: torch.Tensor, input tensor\n",
        "        :param alpha: float, alpha parameter for the ReverseLayerF\n",
        "        :return: tuple, (alpha, beta), value, domain_output, sketch\n",
        "        \"\"\"\n",
        "        sketch = self.sketch(input)\n",
        "        sketch = torch.squeeze(sketch)\n",
        "\n",
        "        feature = self.feature(sketch)\n",
        "\n",
        "        out = self.cnn_base(feature)\n",
        "        out = out.view(-1, 256)\n",
        "        v = self.value_head(out)\n",
        "        out = self.fc(out)\n",
        "\n",
        "        alpha = self.alpha_head(out) + 1\n",
        "        beta = self.beta_head(out) + 1\n",
        "\n",
        "        feature = feature.view(-1, 64 * 5 * 5)\n",
        "        reverse_feature = ReverseLayerF.apply(feature, a)\n",
        "        domain_output = self.domain_classifier(reverse_feature)\n",
        "\n",
        "        return (alpha, beta), v, domain_output, sketch\n",
        "\n",
        "    @staticmethod\n",
        "    def _weights_init(m):\n",
        "        if isinstance(m, nn.Conv2d):\n",
        "            nn.init.xavier_uniform_(m.weight, gain=nn.init.calculate_gain('relu'))\n",
        "            nn.init.constant_(m.bias, 0.1)\n"
      ],
      "metadata": {
        "id": "Qus3J02yEytD"
      },
      "execution_count": 21,
      "outputs": []
    },
    {
      "cell_type": "code",
      "source": [
        "def get_random(state):\n",
        "    red_scale, green_scale, blue_scale = 1., 1., 1.\n",
        "    base_scale = 0.5\n",
        "    while (red_scale == green_scale == blue_scale):\n",
        "        add_green = random.randint(0, 1)\n",
        "        add_red = random.randint(0, 1)\n",
        "        add_blue = random.randint(0, 1)\n",
        "        if (add_red): \n",
        "            red_scale = random.uniform(0.5, 1.1)\n",
        "        if (add_green): \n",
        "            green_scale = random.uniform(0.5, 1.1)\n",
        "        if (add_blue): \n",
        "            blue_scale = random.uniform(0.5, 1.1)\n",
        "            \n",
        "    for i in range (0, 4):\n",
        "        s = torch.transpose(state[i], 0, 2)\n",
        "        road = s [1] - s [0] * 0.6 - s[2] * 0.4\n",
        "        road = torch.stack((road, road, road), 0)\n",
        "        ones = torch.ones(3, 96, 96).to(device)\n",
        "\n",
        "        road_mask = torch.logical_xor(road, ones)\n",
        "        road_layer = s * road_mask\n",
        "\n",
        "        light_green = 202 / 128. - 1\n",
        "        light_green_mask = torch.logical_xor(s - light_green , ones)\n",
        "        light_green_layer = s * light_green_mask\n",
        "\n",
        "        dark_green = 228 / 128. - 1\n",
        "        dark_green_mask = torch.logical_xor(s - dark_green , ones)\n",
        "        dark_green_layer = s * dark_green_mask\n",
        "\n",
        "        bg_layer = light_green_layer + dark_green_layer\n",
        "\n",
        "        ones = torch.ones(96, 96).to(device)\n",
        "        back_ground_mask = torch.logical_xor(bg_layer[1], ones)\n",
        "\n",
        "        red_channel = (back_ground_mask * 128) /128. - 1\n",
        "        green_channel = (back_ground_mask * 128) /128. - 1\n",
        "        blue_channel = (back_ground_mask * 128) /128. - 1\n",
        "\n",
        "        if (add_red): red_channel = bg_layer[1] * red_scale\n",
        "        if (add_green): green_channel = bg_layer[1] * green_scale\n",
        "        if (add_blue): blue_channel = bg_layer[1] * blue_scale\n",
        "\n",
        "        new_bg_layer = torch.stack((red_channel, green_channel, blue_channel), 0)\n",
        "\n",
        "        new_state = new_bg_layer + road_layer\n",
        "\n",
        "        state[i] = torch.transpose(new_state, 0, 2)\n",
        "        \n",
        "    return state  \n",
        "\n",
        "def get_random_buffer(buffer, batch_size):\n",
        "    target_buffer = buffer.clone()\n",
        "    for i in range (batch_size):\n",
        "        target_buffer[i] = get_random(target_buffer[i])\n",
        "    return target_buffer "
      ],
      "metadata": {
        "id": "2zlLx6d56xY8"
      },
      "execution_count": 22,
      "outputs": []
    },
    {
      "cell_type": "markdown",
      "source": [
        "# Agent"
      ],
      "metadata": {
        "id": "LtLbrh8g1CKg"
      }
    },
    {
      "cell_type": "code",
      "source": [
        "import numpy as np\n",
        "import torch\n",
        "from torch.utils.data import SubsetRandomSampler, BatchSampler\n",
        "import matplotlib.pyplot as plt\n",
        "\n",
        "class Agent:\n",
        "    max_grad_norm = 0.5\n",
        "    clip_param = 0.1\n",
        "    ppo_epoch = 10\n",
        "\n",
        "    transition = np.dtype([\n",
        "        ('s', np.float64, (4, 96, 96, 3)),\n",
        "        ('a', np.float64, (3,)),\n",
        "        ('a_logp', np.float64),\n",
        "        ('r', np.float64),\n",
        "        ('s_', np.float64, (4, 96, 96, 3))\n",
        "    ])\n",
        "\n",
        "    def __init__(self, net, criterion, optimizer, buffer_capacity=2000, batch_size=128):\n",
        "        \"\"\"\n",
        "        Initialize the Agent.\n",
        "        \n",
        "        :param net: neural network for the agent\n",
        "        :param criterion: loss function\n",
        "        :param optimizer: optimizer for the network\n",
        "        :param buffer_capacity: int, capacity of the buffer\n",
        "        :param batch_size: int, batch size for training\n",
        "        \"\"\"\n",
        "        self.net = net\n",
        "        self.buffer_capacity = buffer_capacity\n",
        "        self.batch_size = batch_size\n",
        "        self.criterion = criterion\n",
        "        self.optimizer = optimizer\n",
        "\n",
        "        self.source_buffer = np.empty(self.buffer_capacity, dtype=self.transition)\n",
        "        self.counter = 0\n",
        "\n",
        "    def select_action(self, state):\n",
        "        \"\"\"\n",
        "        Select action based on the given state.\n",
        "        \n",
        "        :param state: numpy array, state representation\n",
        "        :return: tuple, (action, action_log_probability)\n",
        "        \"\"\"\n",
        "        state = torch.from_numpy(state).double().to(device).unsqueeze(0)\n",
        "        with torch.no_grad():\n",
        "            out = self.net.sketch(state)\n",
        "            out = torch.squeeze(out)\n",
        "            out = self.net.feature(out)\n",
        "\n",
        "            out = self.net.cnn_base(out)\n",
        "            out = out.view(-1, 256)\n",
        "            out = self.net.fc(out)\n",
        "            alpha = self.net.alpha_head(out) + 1\n",
        "            beta = self.net.beta_head(out) + 1\n",
        "\n",
        "        dist = Beta(alpha, beta)\n",
        "        action = dist.sample()\n",
        "        a_logp = dist.log_prob(action).sum(dim=1)\n",
        "\n",
        "        action = action.squeeze().cpu().numpy()\n",
        "        a_logp = a_logp.item()\n",
        "        return action, a_logp\n",
        "\n",
        "    def store(self, transition):\n",
        "        \"\"\"\n",
        "        Store the transition in the buffer.\n",
        "        \n",
        "        :param transition: tuple, (state, action, action_log_probability, reward, next_state)\n",
        "        :return: bool, True if the buffer is full, False otherwise\n",
        "        \"\"\"\n",
        "        \n",
        "        self.source_buffer[self.counter] = transition\n",
        "        self.counter += 1\n",
        "        if self.counter == self.buffer_capacity:\n",
        "            self.counter = 0\n",
        "            return True\n",
        "\n",
        "        return False\n",
        "\n",
        "    def _prepare_tensors(self):\n",
        "        s = torch.tensor(self.source_buffer['s'], dtype=torch.double).to(device)\n",
        "        a = torch.tensor(self.source_buffer['a'], dtype=torch.double).to(device)\n",
        "        r = torch.tensor(self.source_buffer['r'], dtype=torch.double).to(device).view(-1, 1)\n",
        "        s_ = torch.tensor(self.source_buffer['s_'], dtype=torch.double).to(device)\n",
        "        old_a_logp = torch.tensor(self.source_buffer['a_logp'], dtype=torch.double).to(device).view(-1, 1)\n",
        "\n",
        "        return s, a, r, s_, old_a_logp\n",
        "    \n",
        "    def _prepare_domain_labels(self):\n",
        "        source_domain_label = torch.zeros(self.batch_size).long().to(device)\n",
        "        target_domain_label = torch.ones(self.batch_size).long().to(device)\n",
        "        return source_domain_label, target_domain_label\n",
        "\n",
        "    def _compute_advantage(self, s, r, s_):\n",
        "        with torch.no_grad():\n",
        "            target_v = r + 0.99 * self.net(s_)[1]\n",
        "            adv = target_v - self.net(s)[1]\n",
        "        return target_v, adv\n",
        "\n",
        "    def _calculate_losses(self, s, a, old_a_logp, adv, index, eta):\n",
        "        (alpha, beta), v, domain_out, s_sketch = self.net(s[index], eta)\n",
        "\n",
        "        source_domain_loss = self.criterion(domain_out, self.source_domain_label)\n",
        "        source_domain_correct = (torch.argmax(domain_out, dim=1) == self.source_domain_label).sum().item()\n",
        "\n",
        "        _, _, domain_out, t_sketch = self.net(self.target_batch, eta)\n",
        "        target_domain_loss = self.criterion(domain_out, self.target_domain_label)\n",
        "        target_domain_correct = (torch.argmax(domain_out, dim=1) == self.target_domain_label).sum().item()\n",
        "\n",
        "        dist = Beta(alpha, beta)\n",
        "        a_logp = dist.log_prob(a[index]).sum(dim=1, keepdim=True)\n",
        "        ratio = torch.exp(a_logp - old_a_logp[index])\n",
        "        surr1 = ratio * adv[index]\n",
        "        surr2 = torch.clamp(ratio, 1.0 - self.clip_param, 1.0 + self.clip_param) * adv[index]\n",
        "        action_loss = -torch.min(surr1, surr2).mean()\n",
        "        value_loss = F.smooth_l1_loss(self.net(s[index])[1], self.target_v[index])\n",
        "\n",
        "        loss = action_loss + 2. * value_loss + source_domain_loss + target_domain_loss\n",
        "\n",
        "        return loss, source_domain_correct, target_domain_correct, s_sketch, t_sketch\n",
        "\n",
        "    def _save_images(self, epoch, image_array):\n",
        "        f, axs = plt.subplots(2, 10, figsize = (16, 4))\n",
        "        axs = axs.flatten()\n",
        "        for img, ax in zip(image_array, axs):\n",
        "            ax.imshow(img)\n",
        "        f.savefig('./output_r/%04d.png' % epoch)\n",
        "        plt.close(f)\n",
        "\n",
        "    def _get_sample_random_result(self, index):\n",
        "        s = torch.tensor(self.source_buffer['s'], dtype=torch.double).to(device)\n",
        "        # return change_background_color(s[index], (100/128. - 1, 202/128. - 1, 100/128. - 1))\n",
        "        return get_random_buffer(s[index], self.batch_size)\n",
        "\n",
        "    def update(self, epoch, eta=0.1):\n",
        "        # Prepare tensors from the source_buffer\n",
        "        s, a, r, s_, old_a_logp = self._prepare_tensors()\n",
        "        self.target_v, adv = self._compute_advantage(s, r, s_)\n",
        "        self.source_domain_label, self.target_domain_label = self._prepare_domain_labels()\n",
        "\n",
        "        image_array, source_acc_array, target_acc_array = [], [], []\n",
        "\n",
        "        for _ in range(self.ppo_epoch):\n",
        "            total = 0\n",
        "            source_domain_correct, target_domain_correct = 0, 0\n",
        "            add_image = True\n",
        "\n",
        "            for index in BatchSampler(SubsetRandomSampler(range(self.buffer_capacity)), self.batch_size, True):\n",
        "                total += self.batch_size\n",
        "                self.target_batch = get_random_buffer(s[index], self.batch_size)\n",
        "\n",
        "                loss, src_correct, tgt_correct, s_sketch, t_sketch = self._calculate_losses(s, a, old_a_logp, adv, index, eta)\n",
        "                source_domain_correct += src_correct\n",
        "                target_domain_correct += tgt_correct\n",
        "\n",
        "                if add_image:\n",
        "                    image_array.extend([s_sketch[0][0].reshape(96, 96).cpu().detach().numpy(),\n",
        "                                        t_sketch[0][0].reshape(96, 96).cpu().detach().numpy()])\n",
        "                    add_image = False\n",
        "\n",
        "                self.optimizer.zero_grad()\n",
        "                loss.backward()\n",
        "                self.optimizer.step()\n",
        "\n",
        "            source_acc_array.append(source_domain_correct / total)\n",
        "            target_acc_array.append(target_domain_correct / total)\n",
        "\n",
        "        mean_source_acc = np.mean(source_acc_array)\n",
        "        mean_target_acc = np.mean(target_acc_array)\n",
        "\n",
        "        self._save_images(epoch, image_array)\n",
        "\n",
        "        return mean_source_acc, mean_target_acc"
      ],
      "metadata": {
        "id": "k0yp2Wfx1DOK"
      },
      "execution_count": 23,
      "outputs": []
    },
    {
      "cell_type": "code",
      "source": [
        "def get_sample_buffer(source_env, agent):\n",
        "    state = source_env.reset()\n",
        "    sample = []\n",
        "    index = [99, 65, 53, 121, 29, 67, 38, 88, 56, 21]\n",
        "    for i in range(100):\n",
        "        for t in range(1000):\n",
        "            action, a_logp = agent.select_action(state)\n",
        "            state_, reward, done, die = source_env.step(action * np.array([2., 1., 1.]) + np.array([-1., 0., 0.]))\n",
        "\n",
        "            should_update = agent.store((state, action, a_logp, reward, state_))\n",
        "            if should_update:\n",
        "                buffer = agent._get_sample_random_result(index)\n",
        "                return buffer\n",
        "            state = state_\n",
        "            if done or die:\n",
        "                break\n",
        "\n",
        "    return sample\n",
        "    \n",
        "green_env = Env(color = 'g', seed = 0)\n",
        "criterion = nn.CrossEntropyLoss().cuda()\n",
        "net = DANN(num_out = 2).double().cuda()\n",
        "optimizer = optim.Adam(net.parameters(), lr=1e-3)\n",
        "agent = Agent(net = net,  criterion = criterion,  optimizer = optimizer, buffer_capacity = 128, batch_size = 10)\n",
        "sample_random_buffer = get_sample_buffer(green_env, agent)"
      ],
      "metadata": {
        "id": "ACF-HT_1vPcV"
      },
      "execution_count": 24,
      "outputs": []
    },
    {
      "cell_type": "code",
      "source": [
        "sample_random_buffer.size()"
      ],
      "metadata": {
        "id": "RMkjLuFqVdAX",
        "outputId": "294af55c-7e96-4ef0-fee9-22604baa2201",
        "colab": {
          "base_uri": "https://localhost:8080/"
        }
      },
      "execution_count": 28,
      "outputs": [
        {
          "output_type": "stream",
          "name": "stderr",
          "text": [
            "/usr/local/lib/python3.10/dist-packages/ipykernel/ipkernel.py:283: DeprecationWarning: `should_run_async` will not call `transform_cell` automatically in the future. Please pass the result to `transformed_cell` argument and any exception that happen during thetransform in `preprocessing_exc_tuple` in IPython 7.17 and above.\n",
            "  and should_run_async(code)\n"
          ]
        },
        {
          "output_type": "execute_result",
          "data": {
            "text/plain": [
              "torch.Size([10, 4, 96, 96, 3])"
            ]
          },
          "metadata": {},
          "execution_count": 28
        }
      ]
    },
    {
      "cell_type": "code",
      "source": [
        "sample = (sample_random_buffer + 1)/2 \n",
        "plt.imshow(sample[0][0].cpu())"
      ],
      "metadata": {
        "id": "N4UOFiFXVgzW",
        "outputId": "0e185e16-1005-42a3-a536-2d5982cd7af6",
        "colab": {
          "base_uri": "https://localhost:8080/",
          "height": 507
        }
      },
      "execution_count": 35,
      "outputs": [
        {
          "output_type": "stream",
          "name": "stderr",
          "text": [
            "/usr/local/lib/python3.10/dist-packages/ipykernel/ipkernel.py:283: DeprecationWarning: `should_run_async` will not call `transform_cell` automatically in the future. Please pass the result to `transformed_cell` argument and any exception that happen during thetransform in `preprocessing_exc_tuple` in IPython 7.17 and above.\n",
            "  and should_run_async(code)\n"
          ]
        },
        {
          "output_type": "execute_result",
          "data": {
            "text/plain": [
              "<matplotlib.image.AxesImage at 0x7f1aff86f460>"
            ]
          },
          "metadata": {},
          "execution_count": 35
        },
        {
          "output_type": "display_data",
          "data": {
            "text/plain": [
              "<Figure size 640x480 with 1 Axes>"
            ],
            "image/png": "[encoded data removed]"
          },
          "metadata": {}
        }
      ]
    },
    {
      "cell_type": "markdown",
      "source": [
        "# Testing"
      ],
      "metadata": {
        "id": "t0oqubeG_V1r"
      }
    },
    {
      "cell_type": "code",
      "source": [
        "'''sample_buffer = sample_random_buffer.clone()\n",
        "sample_buffer = (sample_buffer + 1) / 2.0\n",
        "\n",
        "random_bg_images = []\n",
        "for i in range (10):\n",
        "    random_bg_images.append(sample_buffer[i][0].cpu().numpy())\n",
        "\n",
        "f, axs = plt.subplots(2, 5, figsize = (12, 4))\n",
        "axs = axs.flatten()\n",
        "\n",
        "for img, ax in zip(random_bg_images, axs):\n",
        "    ax.imshow(img)\n",
        "\n",
        "plt.show()'''"
      ],
      "metadata": {
        "colab": {
          "base_uri": "https://localhost:8080/",
          "height": 72
        },
        "id": "e3zEmUqC-rg8",
        "outputId": "bf80e1a0-de97-46b4-ba33-439da8f43e39"
      },
      "execution_count": 25,
      "outputs": [
        {
          "output_type": "execute_result",
          "data": {
            "text/plain": [
              "'sample_buffer = sample_random_buffer.clone()\\nsample_buffer = (sample_buffer + 1) / 2.0\\n\\nrandom_bg_images = []\\nfor i in range (10):\\n    random_bg_images.append(sample_buffer[i][0].cpu().numpy())\\n\\nf, axs = plt.subplots(2, 5, figsize = (12, 4))\\naxs = axs.flatten()\\n\\nfor img, ax in zip(random_bg_images, axs):\\n    ax.imshow(img)\\n\\nplt.show()'"
            ],
            "application/vnd.google.colaboratory.intrinsic+json": {
              "type": "string"
            }
          },
          "metadata": {},
          "execution_count": 25
        }
      ]
    },
    {
      "cell_type": "code",
      "source": [
        "def eval(agent, env):\n",
        "    \"\"\"\n",
        "    Evaluate the agent on the given environment.\n",
        "\n",
        "    :param agent: Agent, trained agent to be evaluated\n",
        "    :param env: Environment, environment to evaluate the agent on\n",
        "    :return: float, total reward received by the agent\n",
        "    \"\"\"\n",
        "    score = 0\n",
        "    state = env.reset()\n",
        "\n",
        "    for t in range(1000):\n",
        "        action, a_logp = agent.select_action(state)\n",
        "        state_, reward, done, _ = env.step_eval(action * np.array([2., 1., 1.]) + np.array([-1., 0., 0.]))\n",
        "        score += reward\n",
        "        state = state_\n",
        "\n",
        "        if done:\n",
        "            break\n",
        "\n",
        "    return score\n"
      ],
      "metadata": {
        "id": "qJ4OwKfx5YXL"
      },
      "execution_count": 26,
      "outputs": []
    },
    {
      "cell_type": "code",
      "source": [
        "green_env = Env(color = 'g', seed = 0)\n",
        "env_c1 = Env(color = 'c1', seed = 0)\n",
        "env_c2 = Env(color = 'c2', seed = 0)\n",
        "\n",
        "criterion = nn.CrossEntropyLoss().cuda()\n",
        "net = DANN(num_out = 2).double().cuda()\n",
        "optimizer = optim.Adam(net.parameters(), lr=1e-3)\n",
        "agent = Agent(net = net,  criterion = criterion,  optimizer = optimizer, buffer_capacity = 2048, batch_size = 128)\n",
        "\n",
        "source_env = green_env\n",
        "target_env = [env_c1, env_c2]\n",
        "\n",
        "training_records = []\n",
        "running_score_records = []\n",
        "running_score = 0\n",
        "\n",
        "c1_running_score = 0\n",
        "c1_training_records = []\n",
        "c1_running_score_records = []\n",
        "\n",
        "c2_running_score = 0\n",
        "c2_training_records = []\n",
        "c2_running_score_records = []\n",
        "\n",
        "eta = 0.2\n",
        "\n",
        "for i_ep in range(3000):\n",
        "    score = 0\n",
        "    state = source_env.reset()\n",
        "\n",
        "    for t in range(1000):\n",
        "        action, a_logp = agent.select_action(state)\n",
        "        state_, reward, done, die = source_env.step(action * np.array([2., 1., 1.]) + np.array([-1., 0., 0.]))\n",
        "        score += reward\n",
        "\n",
        "        should_update = agent.store((state, action, a_logp, reward, state_))\n",
        "\n",
        "        if should_update:\n",
        "            eta_max = 0.5 if i_ep < 500 else (0.45 if i_ep < 1500 else 0.3)\n",
        "            print(\"eta: {:.2f}\".format(eta))\n",
        "            s_acc, t_acc = agent.update(epoch=i_ep, eta=eta)\n",
        "            eta = 0.1\n",
        "\n",
        "        state = state_\n",
        "\n",
        "        if done or die:\n",
        "            break\n",
        "\n",
        "    # Record scores and calculate moving averages\n",
        "    training_records.append(score)\n",
        "    running_score = running_score * 0.99 + score * 0.01\n",
        "    running_score_records.append(running_score)\n",
        "\n",
        "    c1_score = eval(agent, target_env[0])\n",
        "    c2_score = eval(agent, target_env[1])\n",
        "    c1_training_records.append(c1_score)\n",
        "    c2_training_records.append(c2_score)\n",
        "\n",
        "    c1_running_score = c1_running_score * 0.99 + c1_score * 0.01\n",
        "    c2_running_score = c2_running_score * 0.99 + c2_score * 0.01\n",
        "    c1_running_score_records.append(c1_running_score)\n",
        "    c2_running_score_records.append(c2_running_score)\n",
        "\n",
        "    # Display progress every 10 episodes\n",
        "    if (i_ep + 1) % 10 == 0:\n",
        "        print('Ep {}\\tLast score: {:.2f}\\tMoving average score: {:.2f}'.format(i_ep, score, running_score))\n",
        "        print('c1 score: {:.2f}\\t c1 Moving average: {:.2f}'.format(c1_score, c1_running_score))\n",
        "        print('c2 score: {:.2f}\\t c2 Moving average: {:.2f}'.format(c2_score, c2_running_score))\n",
        "\n",
        "        f, axs = plt.subplots(1, 2, figsize = (16, 8))\n",
        "        axs[0].plot(range(len(training_records)), training_records)\n",
        "        axs[0].plot(range(len(c1_training_records)), c1_training_records)\n",
        "        axs[0].plot(range(len(c2_training_records)), c2_training_records)\n",
        "                \n",
        "        axs[1].plot(range(len(running_score_records)), running_score_records)\n",
        "        axs[1].plot(range(len(c1_running_score_records)), c1_running_score_records)\n",
        "        axs[1].plot(range(len(c2_running_score_records)), c2_running_score_records)\n",
        "                \n",
        "        axs[0].legend(['s', 'c1', 'c2'])\n",
        "        axs[1].legend(['s', 'c1', 'c2'])\n",
        "\n",
        "        f.savefig('./output_r/result_%04d.png' % i_ep)\n",
        "        plt.close(f)\n"
      ],
      "metadata": {
        "colab": {
          "base_uri": "https://localhost:8080/",
          "height": 396
        },
        "id": "631HSerR-mHI",
        "outputId": "1324824f-549a-424a-bde9-adb1b42e44d1"
      },
      "execution_count": 27,
      "outputs": [
        {
          "output_type": "error",
          "ename": "KeyboardInterrupt",
          "evalue": "ignored",
          "traceback": [
            "\u001b[0;31m---------------------------------------------------------------------------\u001b[0m",
            "\u001b[0;31mKeyboardInterrupt\u001b[0m                         Traceback (most recent call last)",
            "\u001b[0;32m<ipython-input-27-49fdaa9968e4>\u001b[0m in \u001b[0;36m<cell line: 27>\u001b[0;34m()\u001b[0m\n\u001b[1;32m     53\u001b[0m \u001b[0;34m\u001b[0m\u001b[0m\n\u001b[1;32m     54\u001b[0m     \u001b[0mc1_score\u001b[0m \u001b[0;34m=\u001b[0m \u001b[0meval\u001b[0m\u001b[0;34m(\u001b[0m\u001b[0magent\u001b[0m\u001b[0;34m,\u001b[0m \u001b[0mtarget_env\u001b[0m\u001b[0;34m[\u001b[0m\u001b[0;36m0\u001b[0m\u001b[0;34m]\u001b[0m\u001b[0;34m)\u001b[0m\u001b[0;34m\u001b[0m\u001b[0;34m\u001b[0m\u001b[0m\n\u001b[0;32m---> 55\u001b[0;31m     \u001b[0mc2_score\u001b[0m \u001b[0;34m=\u001b[0m \u001b[0meval\u001b[0m\u001b[0;34m(\u001b[0m\u001b[0magent\u001b[0m\u001b[0;34m,\u001b[0m \u001b[0mtarget_env\u001b[0m\u001b[0;34m[\u001b[0m\u001b[0;36m1\u001b[0m\u001b[0;34m]\u001b[0m\u001b[0;34m)\u001b[0m\u001b[0;34m\u001b[0m\u001b[0;34m\u001b[0m\u001b[0m\n\u001b[0m\u001b[1;32m     56\u001b[0m     \u001b[0mc1_training_records\u001b[0m\u001b[0;34m.\u001b[0m\u001b[0mappend\u001b[0m\u001b[0;34m(\u001b[0m\u001b[0mc1_score\u001b[0m\u001b[0;34m)\u001b[0m\u001b[0;34m\u001b[0m\u001b[0;34m\u001b[0m\u001b[0m\n\u001b[1;32m     57\u001b[0m     \u001b[0mc2_training_records\u001b[0m\u001b[0;34m.\u001b[0m\u001b[0mappend\u001b[0m\u001b[0;34m(\u001b[0m\u001b[0mc2_score\u001b[0m\u001b[0;34m)\u001b[0m\u001b[0;34m\u001b[0m\u001b[0;34m\u001b[0m\u001b[0m\n",
            "\u001b[0;32m<ipython-input-26-b951cdceb291>\u001b[0m in \u001b[0;36meval\u001b[0;34m(agent, env)\u001b[0m\n\u001b[1;32m     12\u001b[0m     \u001b[0;32mfor\u001b[0m \u001b[0mt\u001b[0m \u001b[0;32min\u001b[0m \u001b[0mrange\u001b[0m\u001b[0;34m(\u001b[0m\u001b[0;36m1000\u001b[0m\u001b[0;34m)\u001b[0m\u001b[0;34m:\u001b[0m\u001b[0;34m\u001b[0m\u001b[0;34m\u001b[0m\u001b[0m\n\u001b[1;32m     13\u001b[0m         \u001b[0maction\u001b[0m\u001b[0;34m,\u001b[0m \u001b[0ma_logp\u001b[0m \u001b[0;34m=\u001b[0m \u001b[0magent\u001b[0m\u001b[0;34m.\u001b[0m\u001b[0mselect_action\u001b[0m\u001b[0;34m(\u001b[0m\u001b[0mstate\u001b[0m\u001b[0;34m)\u001b[0m\u001b[0;34m\u001b[0m\u001b[0;34m\u001b[0m\u001b[0m\n\u001b[0;32m---> 14\u001b[0;31m         \u001b[0mstate_\u001b[0m\u001b[0;34m,\u001b[0m \u001b[0mreward\u001b[0m\u001b[0;34m,\u001b[0m \u001b[0mdone\u001b[0m\u001b[0;34m,\u001b[0m \u001b[0m_\u001b[0m \u001b[0;34m=\u001b[0m \u001b[0menv\u001b[0m\u001b[0;34m.\u001b[0m\u001b[0mstep_eval\u001b[0m\u001b[0;34m(\u001b[0m\u001b[0maction\u001b[0m \u001b[0;34m*\u001b[0m \u001b[0mnp\u001b[0m\u001b[0;34m.\u001b[0m\u001b[0marray\u001b[0m\u001b[0;34m(\u001b[0m\u001b[0;34m[\u001b[0m\u001b[0;36m2.\u001b[0m\u001b[0;34m,\u001b[0m \u001b[0;36m1.\u001b[0m\u001b[0;34m,\u001b[0m \u001b[0;36m1.\u001b[0m\u001b[0;34m]\u001b[0m\u001b[0;34m)\u001b[0m \u001b[0;34m+\u001b[0m \u001b[0mnp\u001b[0m\u001b[0;34m.\u001b[0m\u001b[0marray\u001b[0m\u001b[0;34m(\u001b[0m\u001b[0;34m[\u001b[0m\u001b[0;34m-\u001b[0m\u001b[0;36m1.\u001b[0m\u001b[0;34m,\u001b[0m \u001b[0;36m0.\u001b[0m\u001b[0;34m,\u001b[0m \u001b[0;36m0.\u001b[0m\u001b[0;34m]\u001b[0m\u001b[0;34m)\u001b[0m\u001b[0;34m)\u001b[0m\u001b[0;34m\u001b[0m\u001b[0;34m\u001b[0m\u001b[0m\n\u001b[0m\u001b[1;32m     15\u001b[0m         \u001b[0mscore\u001b[0m \u001b[0;34m+=\u001b[0m \u001b[0mreward\u001b[0m\u001b[0;34m\u001b[0m\u001b[0;34m\u001b[0m\u001b[0m\n\u001b[1;32m     16\u001b[0m         \u001b[0mstate\u001b[0m \u001b[0;34m=\u001b[0m \u001b[0mstate_\u001b[0m\u001b[0;34m\u001b[0m\u001b[0;34m\u001b[0m\u001b[0m\n",
            "\u001b[0;32m<ipython-input-19-a40891603128>\u001b[0m in \u001b[0;36mstep_eval\u001b[0;34m(self, action)\u001b[0m\n\u001b[1;32m    106\u001b[0m         \u001b[0;34m:\u001b[0m\u001b[0;32mreturn\u001b[0m\u001b[0;34m:\u001b[0m \u001b[0mtuple\u001b[0m\u001b[0;34m,\u001b[0m \u001b[0;34m(\u001b[0m\u001b[0mstate\u001b[0m\u001b[0;34m,\u001b[0m \u001b[0mreward\u001b[0m\u001b[0;34m,\u001b[0m \u001b[0mdone\u001b[0m\u001b[0;34m,\u001b[0m \u001b[0m_\u001b[0m\u001b[0;34m)\u001b[0m\u001b[0;34m\u001b[0m\u001b[0;34m\u001b[0m\u001b[0m\n\u001b[1;32m    107\u001b[0m         \"\"\"\n\u001b[0;32m--> 108\u001b[0;31m         \u001b[0mimg_rgb\u001b[0m\u001b[0;34m,\u001b[0m \u001b[0mreward\u001b[0m\u001b[0;34m,\u001b[0m \u001b[0mdone\u001b[0m\u001b[0;34m,\u001b[0m \u001b[0m_\u001b[0m \u001b[0;34m=\u001b[0m \u001b[0mself\u001b[0m\u001b[0;34m.\u001b[0m\u001b[0menv\u001b[0m\u001b[0;34m.\u001b[0m\u001b[0mstep\u001b[0m\u001b[0;34m(\u001b[0m\u001b[0maction\u001b[0m\u001b[0;34m)\u001b[0m\u001b[0;34m\u001b[0m\u001b[0;34m\u001b[0m\u001b[0m\n\u001b[0m\u001b[1;32m    109\u001b[0m \u001b[0;34m\u001b[0m\u001b[0m\n\u001b[1;32m    110\u001b[0m         \u001b[0mimg_rgb\u001b[0m \u001b[0;34m=\u001b[0m \u001b[0mimg_rgb\u001b[0m \u001b[0;34m/\u001b[0m \u001b[0;36m128.\u001b[0m \u001b[0;34m-\u001b[0m \u001b[0;36m1\u001b[0m\u001b[0;34m\u001b[0m\u001b[0;34m\u001b[0m\u001b[0m\n",
            "\u001b[0;32m/usr/local/lib/python3.10/dist-packages/gym/wrappers/time_limit.py\u001b[0m in \u001b[0;36mstep\u001b[0;34m(self, action)\u001b[0m\n\u001b[1;32m     58\u001b[0m         \"\"\"\n\u001b[1;32m     59\u001b[0m         observation, reward, terminated, truncated, info = step_api_compatibility(\n\u001b[0;32m---> 60\u001b[0;31m             \u001b[0mself\u001b[0m\u001b[0;34m.\u001b[0m\u001b[0menv\u001b[0m\u001b[0;34m.\u001b[0m\u001b[0mstep\u001b[0m\u001b[0;34m(\u001b[0m\u001b[0maction\u001b[0m\u001b[0;34m)\u001b[0m\u001b[0;34m,\u001b[0m\u001b[0;34m\u001b[0m\u001b[0;34m\u001b[0m\u001b[0m\n\u001b[0m\u001b[1;32m     61\u001b[0m             \u001b[0;32mTrue\u001b[0m\u001b[0;34m,\u001b[0m\u001b[0;34m\u001b[0m\u001b[0;34m\u001b[0m\u001b[0m\n\u001b[1;32m     62\u001b[0m         )\n",
            "\u001b[0;32m/usr/local/lib/python3.10/dist-packages/gym/wrappers/order_enforcing.py\u001b[0m in \u001b[0;36mstep\u001b[0;34m(self, action)\u001b[0m\n\u001b[1;32m     35\u001b[0m         \u001b[0;32mif\u001b[0m \u001b[0;32mnot\u001b[0m \u001b[0mself\u001b[0m\u001b[0;34m.\u001b[0m\u001b[0m_has_reset\u001b[0m\u001b[0;34m:\u001b[0m\u001b[0;34m\u001b[0m\u001b[0;34m\u001b[0m\u001b[0m\n\u001b[1;32m     36\u001b[0m             \u001b[0;32mraise\u001b[0m \u001b[0mResetNeeded\u001b[0m\u001b[0;34m(\u001b[0m\u001b[0;34m\"Cannot call env.step() before calling env.reset()\"\u001b[0m\u001b[0;34m)\u001b[0m\u001b[0;34m\u001b[0m\u001b[0;34m\u001b[0m\u001b[0m\n\u001b[0;32m---> 37\u001b[0;31m         \u001b[0;32mreturn\u001b[0m \u001b[0mself\u001b[0m\u001b[0;34m.\u001b[0m\u001b[0menv\u001b[0m\u001b[0;34m.\u001b[0m\u001b[0mstep\u001b[0m\u001b[0;34m(\u001b[0m\u001b[0maction\u001b[0m\u001b[0;34m)\u001b[0m\u001b[0;34m\u001b[0m\u001b[0;34m\u001b[0m\u001b[0m\n\u001b[0m\u001b[1;32m     38\u001b[0m \u001b[0;34m\u001b[0m\u001b[0m\n\u001b[1;32m     39\u001b[0m     \u001b[0;32mdef\u001b[0m \u001b[0mreset\u001b[0m\u001b[0;34m(\u001b[0m\u001b[0mself\u001b[0m\u001b[0;34m,\u001b[0m \u001b[0;34m**\u001b[0m\u001b[0mkwargs\u001b[0m\u001b[0;34m)\u001b[0m\u001b[0;34m:\u001b[0m\u001b[0;34m\u001b[0m\u001b[0;34m\u001b[0m\u001b[0m\n",
            "\u001b[0;32m/usr/local/lib/python3.10/dist-packages/gym/wrappers/step_api_compatibility.py\u001b[0m in \u001b[0;36mstep\u001b[0;34m(self, action)\u001b[0m\n\u001b[1;32m     50\u001b[0m             \u001b[0;34m(\u001b[0m\u001b[0mobservation\u001b[0m\u001b[0;34m,\u001b[0m \u001b[0mreward\u001b[0m\u001b[0;34m,\u001b[0m \u001b[0mterminated\u001b[0m\u001b[0;34m,\u001b[0m \u001b[0mtruncated\u001b[0m\u001b[0;34m,\u001b[0m \u001b[0minfo\u001b[0m\u001b[0;34m)\u001b[0m \u001b[0;32mor\u001b[0m \u001b[0;34m(\u001b[0m\u001b[0mobservation\u001b[0m\u001b[0;34m,\u001b[0m \u001b[0mreward\u001b[0m\u001b[0;34m,\u001b[0m \u001b[0mdone\u001b[0m\u001b[0;34m,\u001b[0m \u001b[0minfo\u001b[0m\u001b[0;34m)\u001b[0m\u001b[0;34m\u001b[0m\u001b[0;34m\u001b[0m\u001b[0m\n\u001b[1;32m     51\u001b[0m         \"\"\"\n\u001b[0;32m---> 52\u001b[0;31m         \u001b[0mstep_returns\u001b[0m \u001b[0;34m=\u001b[0m \u001b[0mself\u001b[0m\u001b[0;34m.\u001b[0m\u001b[0menv\u001b[0m\u001b[0;34m.\u001b[0m\u001b[0mstep\u001b[0m\u001b[0;34m(\u001b[0m\u001b[0maction\u001b[0m\u001b[0;34m)\u001b[0m\u001b[0;34m\u001b[0m\u001b[0;34m\u001b[0m\u001b[0m\n\u001b[0m\u001b[1;32m     53\u001b[0m         \u001b[0;32mif\u001b[0m \u001b[0mself\u001b[0m\u001b[0;34m.\u001b[0m\u001b[0mnew_step_api\u001b[0m\u001b[0;34m:\u001b[0m\u001b[0;34m\u001b[0m\u001b[0;34m\u001b[0m\u001b[0m\n\u001b[1;32m     54\u001b[0m             \u001b[0;32mreturn\u001b[0m \u001b[0mstep_to_new_api\u001b[0m\u001b[0;34m(\u001b[0m\u001b[0mstep_returns\u001b[0m\u001b[0;34m)\u001b[0m\u001b[0;34m\u001b[0m\u001b[0;34m\u001b[0m\u001b[0m\n",
            "\u001b[0;32m/usr/local/lib/python3.10/dist-packages/gym/wrappers/env_checker.py\u001b[0m in \u001b[0;36mstep\u001b[0;34m(self, action)\u001b[0m\n\u001b[1;32m     37\u001b[0m             \u001b[0;32mreturn\u001b[0m \u001b[0menv_step_passive_checker\u001b[0m\u001b[0;34m(\u001b[0m\u001b[0mself\u001b[0m\u001b[0;34m.\u001b[0m\u001b[0menv\u001b[0m\u001b[0;34m,\u001b[0m \u001b[0maction\u001b[0m\u001b[0;34m)\u001b[0m\u001b[0;34m\u001b[0m\u001b[0;34m\u001b[0m\u001b[0m\n\u001b[1;32m     38\u001b[0m         \u001b[0;32melse\u001b[0m\u001b[0;34m:\u001b[0m\u001b[0;34m\u001b[0m\u001b[0;34m\u001b[0m\u001b[0m\n\u001b[0;32m---> 39\u001b[0;31m             \u001b[0;32mreturn\u001b[0m \u001b[0mself\u001b[0m\u001b[0;34m.\u001b[0m\u001b[0menv\u001b[0m\u001b[0;34m.\u001b[0m\u001b[0mstep\u001b[0m\u001b[0;34m(\u001b[0m\u001b[0maction\u001b[0m\u001b[0;34m)\u001b[0m\u001b[0;34m\u001b[0m\u001b[0;34m\u001b[0m\u001b[0m\n\u001b[0m\u001b[1;32m     40\u001b[0m \u001b[0;34m\u001b[0m\u001b[0m\n\u001b[1;32m     41\u001b[0m     \u001b[0;32mdef\u001b[0m \u001b[0mreset\u001b[0m\u001b[0;34m(\u001b[0m\u001b[0mself\u001b[0m\u001b[0;34m,\u001b[0m \u001b[0;34m**\u001b[0m\u001b[0mkwargs\u001b[0m\u001b[0;34m)\u001b[0m\u001b[0;34m:\u001b[0m\u001b[0;34m\u001b[0m\u001b[0;34m\u001b[0m\u001b[0m\n",
            "\u001b[0;32m/usr/local/lib/python3.10/dist-packages/gym/envs/box2d/car_racing.py\u001b[0m in \u001b[0;36mstep\u001b[0;34m(self, action)\u001b[0m\n\u001b[1;32m    546\u001b[0m         \u001b[0mself\u001b[0m\u001b[0;34m.\u001b[0m\u001b[0mt\u001b[0m \u001b[0;34m+=\u001b[0m \u001b[0;36m1.0\u001b[0m \u001b[0;34m/\u001b[0m \u001b[0mFPS\u001b[0m\u001b[0;34m\u001b[0m\u001b[0;34m\u001b[0m\u001b[0m\n\u001b[1;32m    547\u001b[0m \u001b[0;34m\u001b[0m\u001b[0m\n\u001b[0;32m--> 548\u001b[0;31m         \u001b[0mself\u001b[0m\u001b[0;34m.\u001b[0m\u001b[0mstate\u001b[0m \u001b[0;34m=\u001b[0m \u001b[0mself\u001b[0m\u001b[0;34m.\u001b[0m\u001b[0m_render\u001b[0m\u001b[0;34m(\u001b[0m\u001b[0;34m\"single_state_pixels\"\u001b[0m\u001b[0;34m)\u001b[0m\u001b[0;34m\u001b[0m\u001b[0;34m\u001b[0m\u001b[0m\n\u001b[0m\u001b[1;32m    549\u001b[0m \u001b[0;34m\u001b[0m\u001b[0m\n\u001b[1;32m    550\u001b[0m         \u001b[0mstep_reward\u001b[0m \u001b[0;34m=\u001b[0m \u001b[0;36m0\u001b[0m\u001b[0;34m\u001b[0m\u001b[0;34m\u001b[0m\u001b[0m\n",
            "\u001b[0;32m/usr/local/lib/python3.10/dist-packages/gym/envs/box2d/car_racing.py\u001b[0m in \u001b[0;36m_render\u001b[0;34m(self, mode)\u001b[0m\n\u001b[1;32m    634\u001b[0m             \u001b[0;32mreturn\u001b[0m \u001b[0mself\u001b[0m\u001b[0;34m.\u001b[0m\u001b[0m_create_image_array\u001b[0m\u001b[0;34m(\u001b[0m\u001b[0mself\u001b[0m\u001b[0;34m.\u001b[0m\u001b[0msurf\u001b[0m\u001b[0;34m,\u001b[0m \u001b[0;34m(\u001b[0m\u001b[0mVIDEO_W\u001b[0m\u001b[0;34m,\u001b[0m \u001b[0mVIDEO_H\u001b[0m\u001b[0;34m)\u001b[0m\u001b[0;34m)\u001b[0m\u001b[0;34m\u001b[0m\u001b[0;34m\u001b[0m\u001b[0m\n\u001b[1;32m    635\u001b[0m         \u001b[0;32melif\u001b[0m \u001b[0mmode\u001b[0m \u001b[0;32min\u001b[0m \u001b[0;34m{\u001b[0m\u001b[0;34m\"state_pixels\"\u001b[0m\u001b[0;34m,\u001b[0m \u001b[0;34m\"single_state_pixels\"\u001b[0m\u001b[0;34m}\u001b[0m\u001b[0;34m:\u001b[0m\u001b[0;34m\u001b[0m\u001b[0;34m\u001b[0m\u001b[0m\n\u001b[0;32m--> 636\u001b[0;31m             \u001b[0;32mreturn\u001b[0m \u001b[0mself\u001b[0m\u001b[0;34m.\u001b[0m\u001b[0m_create_image_array\u001b[0m\u001b[0;34m(\u001b[0m\u001b[0mself\u001b[0m\u001b[0;34m.\u001b[0m\u001b[0msurf\u001b[0m\u001b[0;34m,\u001b[0m \u001b[0;34m(\u001b[0m\u001b[0mSTATE_W\u001b[0m\u001b[0;34m,\u001b[0m \u001b[0mSTATE_H\u001b[0m\u001b[0;34m)\u001b[0m\u001b[0;34m)\u001b[0m\u001b[0;34m\u001b[0m\u001b[0;34m\u001b[0m\u001b[0m\n\u001b[0m\u001b[1;32m    637\u001b[0m         \u001b[0;32melse\u001b[0m\u001b[0;34m:\u001b[0m\u001b[0;34m\u001b[0m\u001b[0;34m\u001b[0m\u001b[0m\n\u001b[1;32m    638\u001b[0m             \u001b[0;32mreturn\u001b[0m \u001b[0mself\u001b[0m\u001b[0;34m.\u001b[0m\u001b[0misopen\u001b[0m\u001b[0;34m\u001b[0m\u001b[0;34m\u001b[0m\u001b[0m\n",
            "\u001b[0;32m/usr/local/lib/python3.10/dist-packages/gym/envs/box2d/car_racing.py\u001b[0m in \u001b[0;36m_create_image_array\u001b[0;34m(self, screen, size)\u001b[0m\n\u001b[1;32m    767\u001b[0m         \u001b[0mscaled_screen\u001b[0m \u001b[0;34m=\u001b[0m \u001b[0mpygame\u001b[0m\u001b[0;34m.\u001b[0m\u001b[0mtransform\u001b[0m\u001b[0;34m.\u001b[0m\u001b[0msmoothscale\u001b[0m\u001b[0;34m(\u001b[0m\u001b[0mscreen\u001b[0m\u001b[0;34m,\u001b[0m \u001b[0msize\u001b[0m\u001b[0;34m)\u001b[0m\u001b[0;34m\u001b[0m\u001b[0;34m\u001b[0m\u001b[0m\n\u001b[1;32m    768\u001b[0m         return np.transpose(\n\u001b[0;32m--> 769\u001b[0;31m             \u001b[0mnp\u001b[0m\u001b[0;34m.\u001b[0m\u001b[0marray\u001b[0m\u001b[0;34m(\u001b[0m\u001b[0mpygame\u001b[0m\u001b[0;34m.\u001b[0m\u001b[0msurfarray\u001b[0m\u001b[0;34m.\u001b[0m\u001b[0mpixels3d\u001b[0m\u001b[0;34m(\u001b[0m\u001b[0mscaled_screen\u001b[0m\u001b[0;34m)\u001b[0m\u001b[0;34m)\u001b[0m\u001b[0;34m,\u001b[0m \u001b[0maxes\u001b[0m\u001b[0;34m=\u001b[0m\u001b[0;34m(\u001b[0m\u001b[0;36m1\u001b[0m\u001b[0;34m,\u001b[0m \u001b[0;36m0\u001b[0m\u001b[0;34m,\u001b[0m \u001b[0;36m2\u001b[0m\u001b[0;34m)\u001b[0m\u001b[0;34m\u001b[0m\u001b[0;34m\u001b[0m\u001b[0m\n\u001b[0m\u001b[1;32m    770\u001b[0m         )\n\u001b[1;32m    771\u001b[0m \u001b[0;34m\u001b[0m\u001b[0m\n",
            "\u001b[0;31mKeyboardInterrupt\u001b[0m: "
          ]
        }
      ]
    }
  ]
}